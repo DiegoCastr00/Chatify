{
 "cells": [
  {
   "cell_type": "code",
   "execution_count": 83,
   "metadata": {},
   "outputs": [],
   "source": [
    "from decouple import config\n",
    "from langchain_openai.chat_models import ChatOpenAI\n",
    "from langchain_openai import OpenAIEmbeddings\n",
    "from pinecone import Pinecone, ServerlessSpec\n",
    "\n",
    "from langchain.text_splitter import RecursiveCharacterTextSplitter\n",
    "\n",
    "from langchain.prompts import PromptTemplate\n",
    "from langchain.chains import RetrievalQA\n",
    "\n",
    "from langchain_community.document_loaders import PyPDFDirectoryLoader\n",
    "\n",
    "from langchain_pinecone import PineconeVectorStore\n",
    "import time"
   ]
  },
  {
   "cell_type": "code",
   "execution_count": 84,
   "metadata": {},
   "outputs": [],
   "source": [
    "OPENAI_API_KEY = config('OPENAI_API_KEY')\n",
    "PINECONE_API_KEY= config('PINECONE_API_KEY')"
   ]
  },
  {
   "cell_type": "code",
   "execution_count": 85,
   "metadata": {},
   "outputs": [
    {
     "name": "stdout",
     "output_type": "stream",
     "text": [
      "tamano de documentos: 153\n",
      "tamano de chunks: 734\n"
     ]
    }
   ],
   "source": [
    "def load_documents(directory):\n",
    "    documentPDF = PyPDFDirectoryLoader(directory)\n",
    "    documents = documentPDF.load()\n",
    "    return documents\n",
    "\n",
    "def chunk_data(docs, chunk_size=800, overlap=100):\n",
    "    text_spliter = RecursiveCharacterTextSplitter(\n",
    "        chunk_size=chunk_size,\n",
    "        chunk_overlap=overlap\n",
    "        )\n",
    "    return text_spliter.split_documents(docs)\n",
    "\n",
    "documents = load_documents('./')\n",
    "print(f\"tamano de documentos: {len(documents)}\")\n",
    "\n",
    "chunks = chunk_data(documents)\n",
    "print(f\"tamano de chunks: {len(chunks)}\")\n"
   ]
  },
  {
   "cell_type": "code",
   "execution_count": 86,
   "metadata": {},
   "outputs": [],
   "source": [
    "model_name = \"text-embedding-3-small\"  \n",
    "embeddings = OpenAIEmbeddings(  \n",
    "    model=model_name,  \n",
    "    openai_api_key=OPENAI_API_KEY \n",
    ")  "
   ]
  },
  {
   "cell_type": "code",
   "execution_count": 87,
   "metadata": {},
   "outputs": [],
   "source": [
    "def calculate_embeddings(chunks, embeddings):\n",
    "    chunk_embeddings = []\n",
    "    for chunk in chunks:\n",
    "        embedding = embeddings.embed_query(chunk.page_content)\n",
    "        metadata = chunk.metadata.copy()  # Copia los metadatos existentes\n",
    "        metadata['text'] = chunk.page_content  # Agrega el texto a los metadatos\n",
    "        chunk_embeddings.append({\n",
    "            'embedding': embedding,\n",
    "            'metadata': metadata\n",
    "        })\n",
    "    return chunk_embeddings\n",
    "\n",
    "chunk_embeddings = calculate_embeddings(chunks, embeddings)"
   ]
  },
  {
   "cell_type": "code",
   "execution_count": 88,
   "metadata": {},
   "outputs": [],
   "source": [
    "# import json\n",
    "\n",
    "# def save_embeddings_to_json(chunk_embeddings, filename):\n",
    "#     with open(filename, 'w') as f:\n",
    "#         json.dump(chunk_embeddings, f)\n",
    "\n",
    "# save_embeddings_to_json(chunk_embeddings, 'embeddings.json')"
   ]
  },
  {
   "cell_type": "code",
   "execution_count": 89,
   "metadata": {},
   "outputs": [],
   "source": [
    "# def load_embeddings_from_json(filename):\n",
    "#     with open(filename, 'r') as f:\n",
    "#         return json.load(f)\n",
    "\n",
    "# loaded_embeddings = load_embeddings_from_json('embeddings.json')"
   ]
  },
  {
   "cell_type": "code",
   "execution_count": 90,
   "metadata": {},
   "outputs": [],
   "source": [
    "def save_to_pinecone(loaded_embeddings, index_name, namespace):\n",
    "    pc = Pinecone(api_key=PINECONE_API_KEY)\n",
    "\n",
    "    if index_name not in pc.list_indexes().names():\n",
    "        pc.create_index(\n",
    "            name=index_name,\n",
    "            dimension=1536, \n",
    "            metric=\"cosine\", \n",
    "            spec=ServerlessSpec(\n",
    "                cloud=\"aws\",\n",
    "                region=\"us-east-1\"\n",
    "            ) \n",
    "        )\n",
    "        # wait for index to be initialized\n",
    "        while not pc.describe_index(index_name).status['ready']:\n",
    "            time.sleep(1)\n",
    "            \n",
    "    # connect to index\n",
    "    index = pc.Index(index_name)\n",
    "    time.sleep(1)\n",
    "\n",
    "    batch_size = 100\n",
    "    for i in range(0, len(loaded_embeddings), batch_size):\n",
    "        batch = loaded_embeddings[i:i+batch_size]\n",
    "        vectors = [(str(j+i), item['embedding'], item['metadata']) for j, item in enumerate(batch)]\n",
    "        index.upsert(vectors=vectors, namespace=namespace)\n",
    "\n",
    "index_name = \"chatify\"\n",
    "namespace = \"normatividad\"\n",
    "save_to_pinecone(chunk_embeddings, index_name, namespace)"
   ]
  },
  {
   "cell_type": "markdown",
   "metadata": {},
   "source": [
    "Test"
   ]
  },
  {
   "cell_type": "code",
   "execution_count": 91,
   "metadata": {},
   "outputs": [],
   "source": [
    "# model_name = \"text-embedding-3-small\"  \n",
    "\n",
    "# embeddings = OpenAIEmbeddings(  \n",
    "#     model=model_name,  \n",
    "#     openai_api_key=OPENAI_API_KEY \n",
    "# )  \n",
    "\n",
    "# query = \"Que es la SS?\"\n",
    "\n",
    "# xq = embeddings.embed_query(query)"
   ]
  },
  {
   "cell_type": "code",
   "execution_count": 92,
   "metadata": {},
   "outputs": [],
   "source": [
    "# pc = Pinecone(api_key=PINECONE_API_KEY)\n",
    "\n",
    "# index_name = \"test-index\"\n",
    "# namespace = \"amazon\"\n",
    "\n",
    "# # connect to index\n",
    "# index = pc.Index(index_name)\n",
    "# time.sleep(1)\n",
    "\n",
    "# res = index.query(\n",
    "#     namespace=namespace,\n",
    "#     vector=xq,\n",
    "#     top_k=3,\n",
    "#     includeMetadata= True\n",
    "# )\n",
    "\n",
    "# print(res)"
   ]
  }
 ],
 "metadata": {
  "kernelspec": {
   "display_name": "Python 3",
   "language": "python",
   "name": "python3"
  },
  "language_info": {
   "codemirror_mode": {
    "name": "ipython",
    "version": 3
   },
   "file_extension": ".py",
   "mimetype": "text/x-python",
   "name": "python",
   "nbconvert_exporter": "python",
   "pygments_lexer": "ipython3",
   "version": "3.12.3"
  }
 },
 "nbformat": 4,
 "nbformat_minor": 2
}
